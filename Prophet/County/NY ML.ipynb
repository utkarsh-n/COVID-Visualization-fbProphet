{
 "cells": [
  {
   "cell_type": "code",
   "execution_count": 12,
   "id": "b52656b1-c536-402c-80d4-9353a49afef3",
   "metadata": {},
   "outputs": [],
   "source": [
    "%matplotlib inline"
   ]
  },
  {
   "cell_type": "code",
   "execution_count": 85,
   "id": "8f91fb7b-4fab-463d-8d9e-cf6c6626d0e9",
   "metadata": {},
   "outputs": [],
   "source": [
    "from fbprophet import Prophet\n",
    "import pandas as pd\n",
    "import numpy as np\n",
    "from fbprophet.plot import plot_plotly, add_changepoints_to_plot\n",
    "from plotly.offline import iplot, init_notebook_mode\n",
    "plt.rcParams['figure.figsize']=(20,10)\n",
    "plt.style.use('ggplot')"
   ]
  },
  {
   "cell_type": "code",
   "execution_count": 72,
   "id": "ba10687c-198f-436b-ab9d-da528b7c55f5",
   "metadata": {},
   "outputs": [
    {
     "data": {
      "text/html": [
       "<div>\n",
       "<style scoped>\n",
       "    .dataframe tbody tr th:only-of-type {\n",
       "        vertical-align: middle;\n",
       "    }\n",
       "\n",
       "    .dataframe tbody tr th {\n",
       "        vertical-align: top;\n",
       "    }\n",
       "\n",
       "    .dataframe thead th {\n",
       "        text-align: right;\n",
       "    }\n",
       "</style>\n",
       "<table border=\"1\" class=\"dataframe\">\n",
       "  <thead>\n",
       "    <tr style=\"text-align: right;\">\n",
       "      <th></th>\n",
       "      <th>ds</th>\n",
       "      <th>y</th>\n",
       "      <th>deaths</th>\n",
       "    </tr>\n",
       "  </thead>\n",
       "  <tbody>\n",
       "    <tr>\n",
       "      <th>0</th>\n",
       "      <td>2020-03-01</td>\n",
       "      <td>0.000000</td>\n",
       "      <td>0</td>\n",
       "    </tr>\n",
       "    <tr>\n",
       "      <th>1</th>\n",
       "      <td>2020-03-02</td>\n",
       "      <td>0.000000</td>\n",
       "      <td>0</td>\n",
       "    </tr>\n",
       "    <tr>\n",
       "      <th>2</th>\n",
       "      <td>2020-03-03</td>\n",
       "      <td>0.693147</td>\n",
       "      <td>0</td>\n",
       "    </tr>\n",
       "    <tr>\n",
       "      <th>3</th>\n",
       "      <td>2020-03-04</td>\n",
       "      <td>0.693147</td>\n",
       "      <td>0</td>\n",
       "    </tr>\n",
       "    <tr>\n",
       "      <th>4</th>\n",
       "      <td>2020-03-05</td>\n",
       "      <td>1.386294</td>\n",
       "      <td>0</td>\n",
       "    </tr>\n",
       "  </tbody>\n",
       "</table>\n",
       "</div>"
      ],
      "text/plain": [
       "          ds         y  deaths\n",
       "0 2020-03-01  0.000000       0\n",
       "1 2020-03-02  0.000000       0\n",
       "2 2020-03-03  0.693147       0\n",
       "3 2020-03-04  0.693147       0\n",
       "4 2020-03-05  1.386294       0"
      ]
     },
     "execution_count": 72,
     "metadata": {},
     "output_type": "execute_result"
    },
    {
     "data": {
      "image/png": "[encoded data removed]",
      "text/plain": [
       "<Figure size 1440x720 with 1 Axes>"
      ]
     },
     "metadata": {},
     "output_type": "display_data"
    }
   ],
   "source": [
    "df1 = pd.read_csv('NYcases.csv', index_col='date', parse_dates=True)\n",
    "df1 = df1.drop(['county','state','fips','cured'], axis =1)\n",
    "df1 = df1.reset_index().rename(columns={'date':'ds', 'cases':'y'}) \n",
    "df1['y'] = np.log(df1['y'])\n",
    "df1.set_index('ds').y.plot()\n",
    "df1.head()"
   ]
  },
  {
   "cell_type": "code",
   "execution_count": 73,
   "id": "ba4ee9ef-19b6-4e6f-ba09-920f4441e59e",
   "metadata": {},
   "outputs": [],
   "source": [
    "model = Prophet(yearly_seasonality = False, weekly_seasonality = False, daily_seasonality = True, changepoint_range = .9)\n",
    "model.fit(df1);\n",
    "future = model.make_future_dataframe(periods=30)\n",
    "forecast = model.predict(future)"
   ]
  },
  {
   "cell_type": "code",
   "execution_count": 74,
   "id": "1d125d89-3d0a-4683-89a1-5c9b979bed10",
   "metadata": {},
   "outputs": [
    {
     "data": {
      "text/html": [
       "<div>\n",
       "<style scoped>\n",
       "    .dataframe tbody tr th:only-of-type {\n",
       "        vertical-align: middle;\n",
       "    }\n",
       "\n",
       "    .dataframe tbody tr th {\n",
       "        vertical-align: top;\n",
       "    }\n",
       "\n",
       "    .dataframe thead th {\n",
       "        text-align: right;\n",
       "    }\n",
       "</style>\n",
       "<table border=\"1\" class=\"dataframe\">\n",
       "  <thead>\n",
       "    <tr style=\"text-align: right;\">\n",
       "      <th></th>\n",
       "      <th>ds</th>\n",
       "      <th>yhat</th>\n",
       "      <th>yhat_lower</th>\n",
       "      <th>yhat_upper</th>\n",
       "    </tr>\n",
       "  </thead>\n",
       "  <tbody>\n",
       "    <tr>\n",
       "      <th>512</th>\n",
       "      <td>2021-07-26</td>\n",
       "      <td>13.809544</td>\n",
       "      <td>13.386172</td>\n",
       "      <td>14.299935</td>\n",
       "    </tr>\n",
       "    <tr>\n",
       "      <th>513</th>\n",
       "      <td>2021-07-27</td>\n",
       "      <td>13.810399</td>\n",
       "      <td>13.359205</td>\n",
       "      <td>14.325191</td>\n",
       "    </tr>\n",
       "    <tr>\n",
       "      <th>514</th>\n",
       "      <td>2021-07-28</td>\n",
       "      <td>13.811254</td>\n",
       "      <td>13.311698</td>\n",
       "      <td>14.328728</td>\n",
       "    </tr>\n",
       "    <tr>\n",
       "      <th>515</th>\n",
       "      <td>2021-07-29</td>\n",
       "      <td>13.812109</td>\n",
       "      <td>13.296853</td>\n",
       "      <td>14.366024</td>\n",
       "    </tr>\n",
       "    <tr>\n",
       "      <th>516</th>\n",
       "      <td>2021-07-30</td>\n",
       "      <td>13.812964</td>\n",
       "      <td>13.240158</td>\n",
       "      <td>14.424836</td>\n",
       "    </tr>\n",
       "  </tbody>\n",
       "</table>\n",
       "</div>"
      ],
      "text/plain": [
       "            ds       yhat  yhat_lower  yhat_upper\n",
       "512 2021-07-26  13.809544   13.386172   14.299935\n",
       "513 2021-07-27  13.810399   13.359205   14.325191\n",
       "514 2021-07-28  13.811254   13.311698   14.328728\n",
       "515 2021-07-29  13.812109   13.296853   14.366024\n",
       "516 2021-07-30  13.812964   13.240158   14.424836"
      ]
     },
     "execution_count": 74,
     "metadata": {},
     "output_type": "execute_result"
    }
   ],
   "source": [
    "forecast[['ds', 'yhat', 'yhat_lower', 'yhat_upper']].tail()"
   ]
  },
  {
   "cell_type": "code",
   "execution_count": 75,
   "id": "7fc17ebd-916e-432c-95ad-ff204aa3911c",
   "metadata": {},
   "outputs": [
    {
     "name": "stdout",
     "output_type": "stream",
     "text": [
      "            ds      trend\n",
      "516 2021-07-30  14.154483\n",
      "515 2021-07-29  14.153628\n",
      "514 2021-07-28  14.152773\n",
      "513 2021-07-27  14.151918\n",
      "512 2021-07-26  14.151063\n",
      "511 2021-07-25  14.150208\n",
      "510 2021-07-24  14.149353\n",
      "509 2021-07-23  14.148498\n",
      "508 2021-07-22  14.147643\n",
      "507 2021-07-21  14.146788\n",
      "506 2021-07-20  14.145933\n",
      "505 2021-07-19  14.145078\n",
      "504 2021-07-18  14.144223\n",
      "503 2021-07-17  14.143369\n",
      "502 2021-07-16  14.142514\n",
      "501 2021-07-15  14.141659\n",
      "500 2021-07-14  14.140804\n",
      "499 2021-07-13  14.139949\n",
      "498 2021-07-12  14.139094\n",
      "497 2021-07-11  14.138239\n",
      "496 2021-07-10  14.137384\n",
      "495 2021-07-09  14.136529\n",
      "494 2021-07-08  14.135674\n",
      "493 2021-07-07  14.134819\n",
      "492 2021-07-06  14.133964\n",
      "491 2021-07-05  14.133109\n",
      "490 2021-07-04  14.132254\n",
      "489 2021-07-03  14.131399\n",
      "488 2021-07-02  14.130544\n",
      "487 2021-07-01  14.129689\n"
     ]
    }
   ],
   "source": [
    "forecast.sort_values('trend', ascending=False)[:10]\n",
    "print(forecast[['ds', 'trend']].sort_values('trend', ascending=False)[:30])"
   ]
  },
  {
   "cell_type": "code",
   "execution_count": 76,
   "id": "0da7b147-95f3-4f61-899b-b840e53a3e96",
   "metadata": {
    "tags": []
   },
   "outputs": [
    {
     "data": {
      "image/png": "[encoded data removed]",
      "text/plain": [
       "<Figure size 720x432 with 1 Axes>"
      ]
     },
     "execution_count": 76,
     "metadata": {},
     "output_type": "execute_result"
    },
    {
     "data": {
      "image/png": "[encoded data removed]",
      "text/plain": [
       "<Figure size 720x432 with 1 Axes>"
      ]
     },
     "metadata": {},
     "output_type": "display_data"
    }
   ],
   "source": [
    "model.plot(forecast)"
   ]
  },
  {
   "cell_type": "code",
   "execution_count": 78,
   "id": "14955000-7475-44d8-8359-c45658a3bea7",
   "metadata": {},
   "outputs": [],
   "source": [
    "from sklearn.metrics import mean_squared_error, r2_score, mean_absolute_error"
   ]
  },
  {
   "cell_type": "code",
   "execution_count": 79,
   "id": "4690e068-fb23-4311-905e-c29f932084d6",
   "metadata": {},
   "outputs": [],
   "source": [
    "metric_df = forecast.set_index('ds')[['yhat']].join(df1.set_index('ds').y).reset_index()"
   ]
  },
  {
   "cell_type": "code",
   "execution_count": 80,
   "id": "c0bb8092-e92c-430a-a207-cfd1736c71e8",
   "metadata": {},
   "outputs": [],
   "source": [
    "metric_df.dropna(inplace=True)"
   ]
  },
  {
   "cell_type": "code",
   "execution_count": 81,
   "id": "1d82da3b-0670-4289-a576-3d674b9cd55b",
   "metadata": {},
   "outputs": [
    {
     "data": {
      "text/plain": [
       "0.9967249275951621"
      ]
     },
     "execution_count": 81,
     "metadata": {},
     "output_type": "execute_result"
    }
   ],
   "source": [
    "r2_score(metric_df.y, metric_df.yhat)"
   ]
  },
  {
   "cell_type": "code",
   "execution_count": 82,
   "id": "2beabd87-8989-4d3c-860d-f74d476939f2",
   "metadata": {},
   "outputs": [
    {
     "data": {
      "text/plain": [
       "0.013125224818069893"
      ]
     },
     "execution_count": 82,
     "metadata": {},
     "output_type": "execute_result"
    }
   ],
   "source": [
    "mean_squared_error(metric_df.y, metric_df.yhat)"
   ]
  },
  {
   "cell_type": "code",
   "execution_count": 83,
   "id": "f7751c7e-511f-4cbc-9dec-850c59ce0db3",
   "metadata": {},
   "outputs": [
    {
     "data": {
      "text/plain": [
       "0.0365681902410617"
      ]
     },
     "execution_count": 83,
     "metadata": {},
     "output_type": "execute_result"
    }
   ],
   "source": [
    "mean_absolute_error(metric_df.y, metric_df.yhat)"
   ]
  },
  {
   "cell_type": "code",
   "execution_count": 84,
   "id": "740b9393-1170-4f86-b8fc-06f0972cde94",
   "metadata": {
    "tags": []
   },
   "outputs": [
    {
     "data": {
      "text/plain": [
       "0.11456537355619234"
      ]
     },
     "execution_count": 84,
     "metadata": {},
     "output_type": "execute_result"
    }
   ],
   "source": [
    "np.sqrt(np.mean((metric_df.y - metric_df.yhat)**2))"
   ]
  },
  {
   "cell_type": "code",
   "execution_count": null,
   "id": "43844771-4d3d-4e8a-b3ac-d6b7db0d25f3",
   "metadata": {},
   "outputs": [],
   "source": []
  },
  {
   "cell_type": "code",
   "execution_count": null,
   "id": "b0519f71-53d9-4601-acb3-5022f144d1ed",
   "metadata": {},
   "outputs": [],
   "source": []
  }
 ],
 "metadata": {
  "kernelspec": {
   "display_name": "Python 3",
   "language": "python",
   "name": "python3"
  },
  "language_info": {
   "codemirror_mode": {
    "name": "ipython",
    "version": 3
   },
   "file_extension": ".py",
   "mimetype": "text/x-python",
   "name": "python",
   "nbconvert_exporter": "python",
   "pygments_lexer": "ipython3",
   "version": "3.8.8"
  }
 },
 "nbformat": 4,
 "nbformat_minor": 5
}
